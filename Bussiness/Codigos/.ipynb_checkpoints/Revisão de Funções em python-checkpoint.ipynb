{
 "cells": [
  {
   "cell_type": "code",
   "execution_count": 1,
   "id": "4dbaee0f-8f5c-45d2-ba1a-c42008ebe872",
   "metadata": {},
   "outputs": [
    {
     "name": "stdout",
     "output_type": "stream",
     "text": [
      "Olá mundo\n"
     ]
    }
   ],
   "source": [
    "def funcaoUm(): \n",
    "    print('Olá mundo')\n",
    "\n",
    "funcaoUm()"
   ]
  },
  {
   "cell_type": "code",
   "execution_count": 2,
   "id": "bf509301-e118-4754-859a-2aa46d46fd53",
   "metadata": {},
   "outputs": [],
   "source": [
    "def funcaoUm(nome):\n",
    "    print('Hello %s !' %(nome))"
   ]
  },
  {
   "cell_type": "code",
   "execution_count": 3,
   "id": "6238074a-3a99-4882-8bb8-4404422ab0d2",
   "metadata": {},
   "outputs": [
    {
     "name": "stdin",
     "output_type": "stream",
     "text": [
      "Digite o nome da pessoa:  EU\n"
     ]
    },
    {
     "name": "stdout",
     "output_type": "stream",
     "text": [
      "Hello EU !\n"
     ]
    }
   ],
   "source": [
    "funcaoUm(input(\"Digite o nome da pessoa: \"))"
   ]
  },
  {
   "cell_type": "code",
   "execution_count": 4,
   "id": "e234c14f-eb7d-460d-bd77-c106c044a67e",
   "metadata": {},
   "outputs": [],
   "source": [
    "def funcLeitura():\n",
    "    for i in range(0, 5):\n",
    "        print(\"Numero \" + str(i))"
   ]
  },
  {
   "cell_type": "code",
   "execution_count": 5,
   "id": "816bbe2e-64fa-4702-9282-9ff5a95a6263",
   "metadata": {},
   "outputs": [
    {
     "name": "stdout",
     "output_type": "stream",
     "text": [
      "Numero 0\n",
      "Numero 1\n",
      "Numero 2\n",
      "Numero 3\n",
      "Numero 4\n"
     ]
    }
   ],
   "source": [
    "funcLeitura()"
   ]
  },
  {
   "cell_type": "code",
   "execution_count": null,
   "id": "51fbc973-65f1-441a-9b4c-e8c0e554d819",
   "metadata": {},
   "outputs": [],
   "source": []
  }
 ],
 "metadata": {
  "kernelspec": {
   "display_name": "Python 3 (ipykernel)",
   "language": "python",
   "name": "python3"
  },
  "language_info": {
   "codemirror_mode": {
    "name": "ipython",
    "version": 3
   },
   "file_extension": ".py",
   "mimetype": "text/x-python",
   "name": "python",
   "nbconvert_exporter": "python",
   "pygments_lexer": "ipython3",
   "version": "3.13.7"
  }
 },
 "nbformat": 4,
 "nbformat_minor": 5
}

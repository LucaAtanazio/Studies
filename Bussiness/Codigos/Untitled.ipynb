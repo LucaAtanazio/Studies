{
 "cells": [
  {
   "cell_type": "code",
   "execution_count": 2,
   "id": "c67ea018-841f-4e94-8a2e-91be6a2bfbe4",
   "metadata": {},
   "outputs": [
    {
     "name": "stdout",
     "output_type": "stream",
     "text": [
      "Função 1: ativar\n"
     ]
    }
   ],
   "source": [
    "def funcaoUm():\n",
    "    print('Função 1: ativar')\n",
    "\n",
    "funcaoUm() "
   ]
  },
  {
   "cell_type": "code",
   "execution_count": null,
   "id": "812c13cf-8b08-4d37-9591-28a0bae649fc",
   "metadata": {},
   "outputs": [],
   "source": [
    "def funcaoUm(nome):\n",
    "    print('Olá amigo %s !' %(nome))\n"
   ]
  },
  {
   "cell_type": "code",
   "execution_count": null,
   "id": "c4cd359c-1ece-44f0-886f-6692de9f154b",
   "metadata": {},
   "outputs": [],
   "source": [
    "funcaoUm(input(\"Digite o nome da pessoa: \"))"
   ]
  },
  {
   "cell_type": "code",
   "execution_count": null,
   "id": "2eb805a2-19f9-4e57-ac0b-7d5a850fde48",
   "metadata": {},
   "outputs": [],
   "source": []
  }
 ],
 "metadata": {
  "kernelspec": {
   "display_name": "Python 3 (ipykernel)",
   "language": "python",
   "name": "python3"
  },
  "language_info": {
   "codemirror_mode": {
    "name": "ipython",
    "version": 3
   },
   "file_extension": ".py",
   "mimetype": "text/x-python",
   "name": "python",
   "nbconvert_exporter": "python",
   "pygments_lexer": "ipython3",
   "version": "3.13.7"
  }
 },
 "nbformat": 4,
 "nbformat_minor": 5
}
